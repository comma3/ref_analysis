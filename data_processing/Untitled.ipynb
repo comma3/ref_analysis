{
 "cells": [
  {
   "cell_type": "code",
   "execution_count": 40,
   "metadata": {},
   "outputs": [],
   "source": [
    "import pandas as pd\n",
    "from library import *\n",
    "from collections import defaultdict"
   ]
  },
  {
   "cell_type": "code",
   "execution_count": 72,
   "metadata": {},
   "outputs": [],
   "source": [
    "conn = sqlite3.connect('/data/cfb_game_db.sqlite3')\n",
    "\n",
    "df = pd.read_sql_query(\"\"\"\n",
    "                SELECT\n",
    "                game_thread, team_affected, count(team_affected) as count\n",
    "                FROM\n",
    "                calls\n",
    "                GROUP BY\n",
    "                game_thread, team_affected\n",
    "                ORDER BY\n",
    "                game_thread;\n",
    "                \"\"\", conn)\n",
    "\n",
    "aggressiveness = pd.read_sql_query(\"\"\"\n",
    "                SELECT\n",
    "                team, CAST(argumentative AS float) / CAST(positive AS float) as agg\n",
    "                FROM\n",
    "                fanbase;\n",
    "                \"\"\", conn).fillna(0)"
   ]
  },
  {
   "cell_type": "code",
   "execution_count": 42,
   "metadata": {},
   "outputs": [],
   "source": [
    "game_dict = get_games_dict()"
   ]
  },
  {
   "cell_type": "code",
   "execution_count": 73,
   "metadata": {},
   "outputs": [
    {
     "data": {
      "text/html": [
       "<div>\n",
       "<style scoped>\n",
       "    .dataframe tbody tr th:only-of-type {\n",
       "        vertical-align: middle;\n",
       "    }\n",
       "\n",
       "    .dataframe tbody tr th {\n",
       "        vertical-align: top;\n",
       "    }\n",
       "\n",
       "    .dataframe thead th {\n",
       "        text-align: right;\n",
       "    }\n",
       "</style>\n",
       "<table border=\"1\" class=\"dataframe\">\n",
       "  <thead>\n",
       "    <tr style=\"text-align: right;\">\n",
       "      <th></th>\n",
       "      <th>team</th>\n",
       "      <th>agg</th>\n",
       "    </tr>\n",
       "  </thead>\n",
       "  <tbody>\n",
       "    <tr>\n",
       "      <th>0</th>\n",
       "      <td>ohio state buckeyes</td>\n",
       "      <td>0.077341</td>\n",
       "    </tr>\n",
       "    <tr>\n",
       "      <th>1</th>\n",
       "      <td>oregon ducks</td>\n",
       "      <td>0.050718</td>\n",
       "    </tr>\n",
       "    <tr>\n",
       "      <th>2</th>\n",
       "      <td>florida gators</td>\n",
       "      <td>0.066574</td>\n",
       "    </tr>\n",
       "    <tr>\n",
       "      <th>3</th>\n",
       "      <td>east carolina pirates</td>\n",
       "      <td>0.000000</td>\n",
       "    </tr>\n",
       "    <tr>\n",
       "      <th>4</th>\n",
       "      <td>ucla bruins</td>\n",
       "      <td>0.040741</td>\n",
       "    </tr>\n",
       "  </tbody>\n",
       "</table>\n",
       "</div>"
      ],
      "text/plain": [
       "                    team       agg\n",
       "0    ohio state buckeyes  0.077341\n",
       "1           oregon ducks  0.050718\n",
       "2         florida gators  0.066574\n",
       "3  east carolina pirates  0.000000\n",
       "4            ucla bruins  0.040741"
      ]
     },
     "execution_count": 73,
     "metadata": {},
     "output_type": "execute_result"
    }
   ],
   "source": [
    "aggressiveness.head()"
   ]
  },
  {
   "cell_type": "code",
   "execution_count": 44,
   "metadata": {},
   "outputs": [],
   "source": []
  },
  {
   "cell_type": "code",
   "execution_count": 57,
   "metadata": {},
   "outputs": [],
   "source": [
    "calls_for = defaultdict(int)\n",
    "calls_against = defaultdict(int)\n",
    "games = defaultdict(int)\n",
    "groups = df.groupby('game_thread')\n",
    "for group in groups:\n",
    "    #print(group)\n",
    "    teams = game_dict[group[0]]\n",
    "    #print(type(group[1]))\n",
    "    for team in teams:\n",
    "        team = [x for x in team][0]\n",
    "        games[team] += 1\n",
    "        for i, row in group[1].iterrows():\n",
    "            if row['team_affected'] in team:\n",
    "                calls_against[team] += row['count']\n",
    "            else:\n",
    "                calls_for[team] += row['count']\n",
    "    "
   ]
  },
  {
   "cell_type": "code",
   "execution_count": 70,
   "metadata": {},
   "outputs": [],
   "source": [
    "# print(calls_against)\n",
    "# print(calls_for)"
   ]
  },
  {
   "cell_type": "code",
   "execution_count": 81,
   "metadata": {},
   "outputs": [],
   "source": [
    "keys = set()\n",
    "for k in calls_for.keys():\n",
    "    keys.add(k)\n",
    "for k in calls_against.keys():\n",
    "    keys.add(k)\n",
    "\n",
    "differentials = []\n",
    "scaled = []\n",
    "output = []\n",
    "for k in keys:\n",
    "    differential = calls_for[k] - calls_against[k]\n",
    "    differentials.append((differential, k))\n",
    "    scaled.append((k, round(differential/games[k], 3)))\n",
    "    output.append((k, round(differential/games[k], 3), aggressiveness[aggressiveness['team'] == k]['agg'].values[0]))"
   ]
  },
  {
   "cell_type": "code",
   "execution_count": 82,
   "metadata": {},
   "outputs": [],
   "source": [
    "#print(sorted(scaled, key=lambda x: x[1]))"
   ]
  },
  {
   "cell_type": "code",
   "execution_count": 83,
   "metadata": {},
   "outputs": [
    {
     "name": "stdout",
     "output_type": "stream",
     "text": [
      "[('florida gators', -1.75, 0.066574202496532592), ('mississippi state bulldogs', 3.9, 0.12698412698412698), ('arkansas razorbacks', 0.833, 0.05181347150259067), ('virginia cavaliers', 3.0, 0.050000000000000003), ('oregon state beavers', 2.0, 0.0), ('north dakota state bison', 0.0, 0.25), ('clemson tigers', 0.167, 0.070707070707070704), ('florida state seminoles', -0.5, 0.12386706948640483), ('colorado buffaloes', 2.5, 0.1038961038961039), ('troy trojans', 3.0, 0.0), ('rutgers scarlet knights', 2.0, 0.16666666666666666), ('smu mustangs', 2.0, 0.0), ('wisconsin badgers', -0.143, 0.058524173027989825), ('oregon ducks', -2.68, 0.050717703349282293), ('tennessee volunteers', -1.385, 0.081159420289855067), ('byu cougars', 0.2, 0.011235955056179775), ('vanderbilt commodores', 4.667, 0.083333333333333329), ('cincinnati bearcats', 0.5, 0.0), ('ucf knights', 2.0, 0.032258064516129031), ('louisville cardinals', 0.333, 0.053571428571428568), ('texas tech red raiders', -1.5, 0.046875), ('georgia bulldogs', -0.8, 0.084388185654008435), ('boston college eagles', 2.5, 0.0), ('notre dame fighting irish', -1.923, 0.096219931271477668), ('syracuse orange', 4.667, 0.0), ('purdue boilermakers', -0.333, 0.0449438202247191), ('michigan wolverines', -1.632, 0.075268817204301078), ('auburn tigers', -0.588, 0.057142857142857141), ('ole miss rebels', 3.4, 0.125), ('georgia tech yellow jackets', 0.5, 0.0), ('colorado state rams', 0.0, 0.0), ('memphis tigers', 4.0, 0.25), ('boise state broncos', 0.8, 0.040816326530612242), ('texas longhorns', -0.941, 0.05254237288135593), ('kentucky wildcats', 1.6, 0.054545454545454543), ('washington huskies', -1.833, 0.054878048780487805), ('fau owls', 5.0, 0.0), ('wyoming cowboys', 4.0, 0.0), ('virginia tech hokies', -1.545, 0.057750759878419454), ('iowa hawkeyes', -0.556, 0.088541666666666671), ('maryland terrapins', 2.5, 0.052631578947368418), ('nc state wolfpack', 1.667, 0.066666666666666666), ('ucla bruins', -0.6, 0.040740740740740744), ('kansas jayhawks', 2.0, 0.0), ('oklahoma state cowboys', 2.333, 0.13178294573643412), ('utah utes', 0.636, 0.042016806722689079), ('baylor bears', 0.583, 0.15131578947368421), ('nebraska cornhuskers', -1.0, 0.048355899419729204), ('houston cougars', 3.0, 0.0), ('california golden bears', 1.7, 0.03896103896103896), ('oklahoma sooners', -1.231, 0.081364829396325458), ('texas a&m aggies', -2.222, 0.056514913657770803), ('alabama crimson tide', -2.0, 0.13903743315508021), ('west virginia mountaineers', -1.769, 0.042222222222222223), ('indiana hoosiers', 2.143, 0.10000000000000001), ('lsu tigers', -0.188, 0.0678391959798995), ('south carolina gamecocks', 0.667, 0.058035714285714288), ('temple owls', 7.0, 0.0), ('missouri tigers', 1.5, 0.10891089108910891), ('minnesota golden gophers', 1.0, 0.022058823529411766), ('arizona state sun devils', 0.625, 0.016853932584269662), ('penn state nittany lions', -0.615, 0.081081081081081086), ('illinois fighting illini', 4.0, 0.04878048780487805), ('stanford cardinal', 3.167, 0.10638297872340426), ('kansas state wildcats', 1.8, 0.024390243902439025), ('duke blue devils', 0.5, 0.0), ('north carolina tar heels', -0.167, 0.056074766355140186), ('east carolina pirates', 3.0, 0.0), ('arizona wildcats', 1.571, 0.053763440860215055), ('air force falcons', 3.0, 0.0), ('north texas mean green', 2.0, 0.066666666666666666), ('tcu horned frogs', 2.5, 0.13), ('jacksonville state gamecocks', -2.0, 0.0), ('washington state cougars', 0.333, 0.068292682926829273), ('pittsburgh panthers', 3.333, 0.085714285714285715), ('usf bulls', 1.5, 0.034482758620689655), ('northwestern wildcats', 5.5, 0.33333333333333331), ('tulsa golden hurricane', 4.0, 0.0), ('northern illinois huskies', 6.0, 0.25), ('iowa state cyclones', 0.333, 0.064516129032258063), ('michigan state spartans', 1.0, 0.037433155080213901), ('utah state aggies', 1.0, 0.0), ('ohio state buckeyes', -2.087, 0.077340569877883306)]\n"
     ]
    }
   ],
   "source": [
    "#print(output)"
   ]
  },
  {
   "cell_type": "code",
   "execution_count": null,
   "metadata": {},
   "outputs": [],
   "source": []
  }
 ],
 "metadata": {
  "kernelspec": {
   "display_name": "Python 3",
   "language": "python",
   "name": "python3"
  },
  "language_info": {
   "codemirror_mode": {
    "name": "ipython",
    "version": 3
   },
   "file_extension": ".py",
   "mimetype": "text/x-python",
   "name": "python",
   "nbconvert_exporter": "python",
   "pygments_lexer": "ipython3",
   "version": "3.6.3"
  }
 },
 "nbformat": 4,
 "nbformat_minor": 2
}
